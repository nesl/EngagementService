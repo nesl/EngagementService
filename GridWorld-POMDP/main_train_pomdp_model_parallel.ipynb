{
 "cells": [
  {
   "cell_type": "code",
   "execution_count": 3,
   "metadata": {},
   "outputs": [],
   "source": [
    "from multiprocessing import Pool\n",
    "from functools import partial\n",
    "import os\n",
    "import numpy as np\n",
    "\n",
    "from mdp_sequence_reader import MDPSequenceReader\n",
    "from training_pomc_util import *\n",
    "from pomc import PartiallyObservableMarkovChain"
   ]
  },
  {
   "cell_type": "code",
   "execution_count": 227,
   "metadata": {},
   "outputs": [],
   "source": [
    "# configuration\n",
    "sequence_root_dir = 'sequence'\n",
    "pomdp_setup_root_dir = 'pomdp_setup'\n",
    "scenario_name = 'sharp_0.20_0.08'\n",
    "\n",
    "max_em_iterations = 50\n",
    "\n",
    "min_num_states = 2\n",
    "max_num_states = 17\n",
    "model_retries = 6"
   ]
  },
  {
   "cell_type": "code",
   "execution_count": 228,
   "metadata": {},
   "outputs": [
    {
     "name": "stdout",
     "output_type": "stream",
     "text": [
      "Num states: 12\n",
      "Num steps: 10000\n"
     ]
    }
   ],
   "source": [
    "# read the sequence\n",
    "reader = MDPSequenceReader(os.path.join(sequence_root_dir, scenario_name + '.txt'))\n",
    "print(\"Num states: %d\" % reader.get_num_states())\n",
    "print(\"Num steps: %d\" % reader.get_num_steps())"
   ]
  },
  {
   "cell_type": "code",
   "execution_count": 229,
   "metadata": {},
   "outputs": [],
   "source": [
    "# generate environment file\n",
    "pomdp_setup_folder = os.path.join(pomdp_setup_root_dir, scenario_name)\n",
    "if not os.path.exists(pomdp_setup_folder):\n",
    "    os.makedirs(pomdp_setup_folder)\n",
    "reader.generate_grid_world_setup_file(os.path.join(pomdp_setup_folder, 'world.txt'))"
   ]
  },
  {
   "cell_type": "code",
   "execution_count": 230,
   "metadata": {},
   "outputs": [],
   "source": [
    "# get the sequences\n",
    "observations = reader.get_observation_sequence()\n",
    "actions = reader.get_action_sequence()"
   ]
  },
  {
   "cell_type": "code",
   "execution_count": 231,
   "metadata": {},
   "outputs": [],
   "source": [
    "# get the initial model\n",
    "action_space = [0, 1, 2, 3]   # (up, right, down, left)\n",
    "num_observables = 16   # binary measurements of 4 directions"
   ]
  },
  {
   "cell_type": "code",
   "execution_count": 232,
   "metadata": {},
   "outputs": [],
   "source": [
    "# model training\n",
    "def train_model(num_states, round_idx, action_space, num_observables, actions, observations,\n",
    "                converge_improvement_threshold=2., converge_improve_retry=3):\n",
    "    \n",
    "    # initialize model\n",
    "    init_model = initialize_random_pomc(num_states, action_space, num_observables)\n",
    "    \n",
    "    # iterate the model\n",
    "    model = init_model\n",
    "    log_likelihood = -1e100  # very small\n",
    "    best_log_likelihood = log_likelihood\n",
    "    convergence_count = 0\n",
    "    for r in range(max_em_iterations):\n",
    "        alist, c = improve_params(xs=actions, ys=observations, m=model)\n",
    "        new_model = PartiallyObservableMarkovChain(alist, c, model.init)\n",
    "\n",
    "        next_log_likelihood = get_log_likelihood(make_tableaus(xs=actions, ys=observations, m=new_model))\n",
    "        #print(\"round=%d, log likelihood=%f\" % (r+1, next_log_likelihood))\n",
    "\n",
    "        model = new_model\n",
    "        log_likelihood = next_log_likelihood\n",
    "    \n",
    "        # check convergence condition\n",
    "        if log_likelihood - best_log_likelihood > converge_improvement_threshold:\n",
    "            convergence_count = 0\n",
    "        else:\n",
    "            convergence_count += 1\n",
    "            if convergence_count == converge_improve_retry:\n",
    "                break\n",
    "        \n",
    "        best_log_likelihood = max(best_log_likelihood, log_likelihood)\n",
    "    \n",
    "    print(\"num_states=%d, round_idx=%d, log_likelihood=%f\" % (num_states, round_idx, log_likelihood))\n",
    "    return num_states, round_idx,  model, log_likelihood, best_log_likelihood"
   ]
  },
  {
   "cell_type": "code",
   "execution_count": 233,
   "metadata": {},
   "outputs": [],
   "source": [
    "# generate task info for multi-processing\n",
    "tasks = []\n",
    "for i_num_states in range(min_num_states, max_num_states+1):\n",
    "    for i_round in range(model_retries):\n",
    "        tasks.append((i_num_states, i_round))"
   ]
  },
  {
   "cell_type": "code",
   "execution_count": null,
   "metadata": {},
   "outputs": [
    {
     "name": "stdout",
     "output_type": "stream",
     "text": [
      "num_states=2, round_idx=0, log_likelihood=-24339.907531\n",
      "num_states=2, round_idx=3, log_likelihood=-24339.907531\n",
      "num_states=3, round_idx=0, log_likelihood=-22978.695879\n",
      "num_states=3, round_idx=3, log_likelihood=-22978.695879\n",
      "num_states=5, round_idx=0, log_likelihood=-20409.602664\n",
      "num_states=5, round_idx=3, log_likelihood=-20409.602664\n",
      "num_states=4, round_idx=3, log_likelihood=-21773.721911\n",
      "num_states=4, round_idx=0, log_likelihood=-21773.721911\n",
      "num_states=2, round_idx=1, log_likelihood=-24220.189968\n",
      "num_states=2, round_idx=4, log_likelihood=-24220.189968\n",
      "num_states=3, round_idx=1, log_likelihood=-22651.847318\n",
      "num_states=3, round_idx=4, log_likelihood=-22651.847318\n",
      "num_states=5, round_idx=1, log_likelihood=-20423.821753\n",
      "num_states=5, round_idx=4, log_likelihood=-20423.821753\n",
      "num_states=4, round_idx=4, log_likelihood=-21642.865385\n",
      "num_states=4, round_idx=1, log_likelihood=-21642.865385\n",
      "num_states=3, round_idx=2, log_likelihood=-22963.322091\n",
      "num_states=3, round_idx=5, log_likelihood=-22963.322091\n",
      "num_states=5, round_idx=2, log_likelihood=-20794.648040\n",
      "num_states=2, round_idx=2, log_likelihood=-24034.321003\n",
      "num_states=5, round_idx=5, log_likelihood=-20794.648040\n",
      "num_states=2, round_idx=5, log_likelihood=-24034.321003\n",
      "num_states=6, round_idx=0, log_likelihood=-20090.967635\n",
      "num_states=6, round_idx=3, log_likelihood=-20090.967635\n",
      "num_states=4, round_idx=2, log_likelihood=-21792.792250\n",
      "num_states=4, round_idx=5, log_likelihood=-21792.792250\n",
      "num_states=8, round_idx=3, log_likelihood=-17679.038788\n",
      "num_states=7, round_idx=0, log_likelihood=-18814.449789\n",
      "num_states=8, round_idx=0, log_likelihood=-18006.292884\n",
      "num_states=6, round_idx=1, log_likelihood=-19786.105237\n",
      "num_states=6, round_idx=4, log_likelihood=-19786.105237\n",
      "num_states=7, round_idx=3, log_likelihood=-18822.122487\n",
      "num_states=9, round_idx=3, log_likelihood=-17181.428793\n",
      "num_states=9, round_idx=0, log_likelihood=-17181.428793\n",
      "num_states=8, round_idx=4, log_likelihood=-18137.484543\n",
      "num_states=7, round_idx=1, log_likelihood=-18769.627468\n",
      "num_states=6, round_idx=2, log_likelihood=-19407.722496\n",
      "num_states=6, round_idx=5, log_likelihood=-19407.722496\n",
      "num_states=8, round_idx=1, log_likelihood=-18501.526501\n",
      "num_states=9, round_idx=4, log_likelihood=-17125.164158\n",
      "num_states=9, round_idx=1, log_likelihood=-17125.164158\n",
      "num_states=7, round_idx=4, log_likelihood=-18611.623283\n",
      "num_states=8, round_idx=5, log_likelihood=-17879.704952\n",
      "num_states=7, round_idx=2, log_likelihood=-19760.590877\n",
      "num_states=7, round_idx=5, log_likelihood=-18599.138081\n",
      "num_states=8, round_idx=2, log_likelihood=-17516.001589\n",
      "num_states=10, round_idx=0, log_likelihood=-17173.891857\n",
      "num_states=10, round_idx=3, log_likelihood=-17173.891857\n",
      "num_states=9, round_idx=5, log_likelihood=-16972.144995\n",
      "num_states=9, round_idx=2, log_likelihood=-16972.144995\n",
      "num_states=11, round_idx=0, log_likelihood=-16241.235347\n",
      "num_states=11, round_idx=3, log_likelihood=-15273.081948\n",
      "num_states=12, round_idx=3, log_likelihood=-15716.053417\n",
      "num_states=13, round_idx=0, log_likelihood=-16170.513326\n",
      "num_states=13, round_idx=3, log_likelihood=-16170.513326\n",
      "num_states=12, round_idx=0, log_likelihood=-14719.462197\n",
      "num_states=11, round_idx=1, log_likelihood=-16128.757439\n",
      "num_states=10, round_idx=1, log_likelihood=-16990.234885\n",
      "num_states=10, round_idx=4, log_likelihood=-16990.234885\n",
      "num_states=12, round_idx=4, log_likelihood=-15253.156118\n",
      "num_states=11, round_idx=4, log_likelihood=-15203.224700\n",
      "num_states=13, round_idx=1, log_likelihood=-15175.111546\n",
      "num_states=12, round_idx=1, log_likelihood=-15261.703398\n",
      "num_states=13, round_idx=4, log_likelihood=-15175.111546\n",
      "num_states=12, round_idx=5, log_likelihood=-15193.702763\n",
      "num_states=11, round_idx=2, log_likelihood=-16379.988749\n",
      "num_states=11, round_idx=5, log_likelihood=-16373.301577\n",
      "num_states=10, round_idx=2, log_likelihood=-16516.480232\n",
      "num_states=10, round_idx=5, log_likelihood=-16516.480232\n",
      "num_states=12, round_idx=2, log_likelihood=-15193.638546\n",
      "num_states=13, round_idx=2, log_likelihood=-16317.504729\n",
      "num_states=13, round_idx=5, log_likelihood=-16317.504729\n",
      "num_states=14, round_idx=0, log_likelihood=-14682.794136\n",
      "num_states=15, round_idx=3, log_likelihood=-15154.018119\n",
      "num_states=16, round_idx=0, log_likelihood=-14645.437173\n",
      "num_states=14, round_idx=3, log_likelihood=-14690.746417\n",
      "num_states=15, round_idx=0, log_likelihood=-14666.745596\n",
      "num_states=17, round_idx=0, log_likelihood=-14619.360685\n",
      "num_states=14, round_idx=1, log_likelihood=-15236.177098\n",
      "num_states=17, round_idx=3, log_likelihood=-14619.360685\n",
      "num_states=16, round_idx=3, log_likelihood=-14663.665209\n",
      "num_states=14, round_idx=4, log_likelihood=-15617.369156\n",
      "num_states=16, round_idx=1, log_likelihood=-15810.497971\n",
      "num_states=15, round_idx=4, log_likelihood=-15450.507747\n",
      "num_states=14, round_idx=2, log_likelihood=-15152.409796\n",
      "num_states=15, round_idx=1, log_likelihood=-14666.414712\n",
      "num_states=17, round_idx=1, log_likelihood=-15120.689035\n",
      "num_states=17, round_idx=4, log_likelihood=-15120.689035\n"
     ]
    }
   ],
   "source": [
    "# do it so fast!\n",
    "partially_fed_train_model_func = partial(\n",
    "    train_model,\n",
    "    action_space=action_space,\n",
    "    num_observables=num_observables,\n",
    "    actions=actions,\n",
    "    observations=observations,\n",
    ")\n",
    "results = Pool().starmap(partially_fed_train_model_func, tasks)"
   ]
  },
  {
   "cell_type": "code",
   "execution_count": null,
   "metadata": {
    "scrolled": true
   },
   "outputs": [],
   "source": [
    "result_table = [[None for _ in range(model_retries)] for _ in range(max_num_states+1)]\n",
    "for result in results:\n",
    "    num_states, round_idx, *rest = result\n",
    "    result_table[num_states][round_idx] = rest\n",
    "    \n",
    "pomc_models_folder = os.path.join(pomdp_setup_folder, 'pomc_models')\n",
    "if not os.path.exists(pomc_models_folder):\n",
    "    os.makedirs(pomc_models_folder)\n",
    "for i_num_states in range(min_num_states, max_num_states+1):\n",
    "    best_model_idx = np.argmax([logl for _, logl, _ in result_table[i_num_states]])\n",
    "    best_model, best_final_likelihood, _ = result_table[i_num_states][best_model_idx]\n",
    "    print(\"%d states, best likelihood=%f\" % (i_num_states, best_final_likelihood))\n",
    "    best_model.dump(os.path.join(pomc_models_folder, \"best_%d_states.txt\" % i_num_states))\n",
    "for i_num_states in range(min_num_states, max_num_states+1):\n",
    "    best_model_idx = np.argmax([logl for _, logl, _ in result_table[i_num_states]])\n",
    "    best_model, best_final_likelihood, _ = result_table[i_num_states][best_model_idx]\n",
    "    print(\"    %f,  # %d states\" % (best_final_likelihood, i_num_states))"
   ]
  },
  {
   "cell_type": "code",
   "execution_count": null,
   "metadata": {
    "collapsed": true
   },
   "outputs": [],
   "source": []
  }
 ],
 "metadata": {
  "kernelspec": {
   "display_name": "Python 3",
   "language": "python",
   "name": "python3"
  },
  "language_info": {
   "codemirror_mode": {
    "name": "ipython",
    "version": 3
   },
   "file_extension": ".py",
   "mimetype": "text/x-python",
   "name": "python",
   "nbconvert_exporter": "python",
   "pygments_lexer": "ipython3",
   "version": "3.6.4"
  }
 },
 "nbformat": 4,
 "nbformat_minor": 2
}
