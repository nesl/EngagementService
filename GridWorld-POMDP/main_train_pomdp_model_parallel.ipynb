{
 "cells": [
  {
   "cell_type": "code",
   "execution_count": 1,
   "metadata": {
    "collapsed": true
   },
   "outputs": [],
   "source": [
    "from multiprocessing import Pool\n",
    "from functools import partial\n",
    "import os\n",
    "import numpy as np\n",
    "\n",
    "from mdp_sequence_reader import MDPSequenceReader\n",
    "from training_pomc_util import *\n",
    "from pomc import PartiallyObservableMarkovChain"
   ]
  },
  {
   "cell_type": "code",
   "execution_count": 2,
   "metadata": {
    "collapsed": true
   },
   "outputs": [],
   "source": [
    "# configuration\n",
    "sequence_root_dir = 'sample_sequence'\n",
    "pomdp_setup_root_dir = 'sample_pomdp_setup'\n",
    "scenario_name = 'o_0_0'\n",
    "\n",
    "max_em_iterations = 50\n",
    "\n",
    "min_num_states = 2\n",
    "max_num_states = 4\n",
    "model_retries = 3"
   ]
  },
  {
   "cell_type": "code",
   "execution_count": 3,
   "metadata": {},
   "outputs": [
    {
     "name": "stdout",
     "output_type": "stream",
     "text": [
      "Num states: 8\n",
      "Num steps: 10000\n"
     ]
    }
   ],
   "source": [
    "# read the sequence\n",
    "reader = MDPSequenceReader(os.path.join(sequence_root_dir, scenario_name + '.txt'))\n",
    "print(\"Num states: %d\" % reader.get_num_states())\n",
    "print(\"Num steps: %d\" % reader.get_num_steps())"
   ]
  },
  {
   "cell_type": "code",
   "execution_count": 4,
   "metadata": {
    "collapsed": true
   },
   "outputs": [],
   "source": [
    "# generate environment file\n",
    "pomdp_setup_folder = os.path.join(pomdp_setup_root_dir, scenario_name)\n",
    "if not os.path.exists(pomdp_setup_folder):\n",
    "    os.makedirs(pomdp_setup_folder)\n",
    "reader.generate_grid_world_setup_file(os.path.join(pomdp_setup_folder, 'world.txt'))"
   ]
  },
  {
   "cell_type": "code",
   "execution_count": 5,
   "metadata": {
    "collapsed": true
   },
   "outputs": [],
   "source": [
    "# get the sequences\n",
    "observations = reader.get_observation_sequence()\n",
    "actions = reader.get_action_sequence()"
   ]
  },
  {
   "cell_type": "code",
   "execution_count": 6,
   "metadata": {
    "collapsed": true
   },
   "outputs": [],
   "source": [
    "# get the initial model\n",
    "action_space = [0, 1, 2, 3]   # (up, right, down, left)\n",
    "num_observables = 16   # binary measurements of 4 directions"
   ]
  },
  {
   "cell_type": "code",
   "execution_count": 7,
   "metadata": {
    "collapsed": true
   },
   "outputs": [],
   "source": [
    "# model training\n",
    "def train_model(num_states, round_idx, action_space, num_observables, actions, observations,\n",
    "                converge_improvement_threshold=2., converge_improve_retry=3):\n",
    "    \n",
    "    # initialize model\n",
    "    init_model = initialize_random_pomc(num_states, action_space, num_observables)\n",
    "    \n",
    "    # iterate the model\n",
    "    model = init_model\n",
    "    log_likelihood = -1e100  # very small\n",
    "    best_log_likelihood = log_likelihood\n",
    "    convergence_count = 0\n",
    "    for r in range(max_em_iterations):\n",
    "        alist, c = improve_params(xs=actions, ys=observations, m=model)\n",
    "        new_model = PartiallyObservableMarkovChain(alist, c, model.init)\n",
    "\n",
    "        next_log_likelihood = get_log_likelihood(make_tableaus(xs=actions, ys=observations, m=new_model))\n",
    "        #print(\"round=%d, log likelihood=%f\" % (r+1, next_log_likelihood))\n",
    "\n",
    "        model = new_model\n",
    "        log_likelihood = next_log_likelihood\n",
    "    \n",
    "        # check convergence condition\n",
    "        if log_likelihood - best_log_likelihood > converge_improvement_threshold:\n",
    "            convergence_count = 0\n",
    "        else:\n",
    "            convergence_count += 1\n",
    "            if convergence_count == converge_improve_retry:\n",
    "                break\n",
    "        \n",
    "        best_log_likelihood = max(best_log_likelihood, log_likelihood)\n",
    "    \n",
    "    print(\"num_states=%d, round_idx=%d, log_likelihood=%f\" % (num_states, round_idx, log_likelihood))\n",
    "    return num_states, round_idx,  model, log_likelihood, best_log_likelihood"
   ]
  },
  {
   "cell_type": "code",
   "execution_count": 8,
   "metadata": {
    "collapsed": true
   },
   "outputs": [],
   "source": [
    "# generate task info for multi-processing\n",
    "tasks = []\n",
    "for i_num_states in range(min_num_states, max_num_states+1):\n",
    "    for i_round in range(model_retries):\n",
    "        tasks.append((i_num_states, i_round))"
   ]
  },
  {
   "cell_type": "code",
   "execution_count": 9,
   "metadata": {},
   "outputs": [
    {
     "name": "stdout",
     "output_type": "stream",
     "text": [
      "num_states=2, round_idx=0, log_likelihood=-13937.134242\n",
      "num_states=2, round_idx=1, log_likelihood=-13937.134242\n",
      "num_states=2, round_idx=2, log_likelihood=-13937.134242\n",
      "num_states=4, round_idx=1, log_likelihood=-5883.965116\n",
      "num_states=4, round_idx=0, log_likelihood=-5883.965116\n",
      "num_states=4, round_idx=2, log_likelihood=-10267.183255\n",
      "num_states=3, round_idx=0, log_likelihood=-13341.310496\n",
      "num_states=3, round_idx=1, log_likelihood=-13341.310496\n",
      "num_states=3, round_idx=2, log_likelihood=-13341.310496\n"
     ]
    }
   ],
   "source": [
    "# do it so fast!\n",
    "partially_fed_train_model_func = partial(\n",
    "    train_model,\n",
    "    action_space=action_space,\n",
    "    num_observables=num_observables,\n",
    "    actions=actions,\n",
    "    observations=observations,\n",
    ")\n",
    "results = Pool().starmap(partially_fed_train_model_func, tasks)"
   ]
  },
  {
   "cell_type": "code",
   "execution_count": 10,
   "metadata": {},
   "outputs": [
    {
     "name": "stdout",
     "output_type": "stream",
     "text": [
      "2 states, best likelihood=-13937.134242\n",
      "3 states, best likelihood=-13341.310496\n",
      "4 states, best likelihood=-5883.965116\n"
     ]
    }
   ],
   "source": [
    "result_table = [[None for _ in range(model_retries)] for _ in range(max_num_states+1)]\n",
    "for result in results:\n",
    "    num_states, round_idx, *rest = result\n",
    "    result_table[num_states][round_idx] = rest\n",
    "    \n",
    "pomc_models_folder = os.path.join(pomdp_setup_folder, 'pomc_models')\n",
    "if not os.path.exists(pomc_models_folder):\n",
    "    os.makedirs(pomc_models_folder)\n",
    "for i_num_states in range(min_num_states, max_num_states+1):\n",
    "    best_model_idx = np.argmax([logl for _, logl, _ in result_table[i_num_states]])\n",
    "    best_model, best_final_likelihood, _ = result_table[i_num_states][best_model_idx]\n",
    "    print(\"%d states, best likelihood=%f\" % (i_num_states, best_final_likelihood))\n",
    "    best_model.dump(os.path.join(pomc_models_folder, \"best_%d_states.txt\" % i_num_states))"
   ]
  },
  {
   "cell_type": "code",
   "execution_count": null,
   "metadata": {
    "collapsed": true
   },
   "outputs": [],
   "source": []
  }
 ],
 "metadata": {
  "kernelspec": {
   "display_name": "Python 3",
   "language": "python",
   "name": "python3"
  },
  "language_info": {
   "codemirror_mode": {
    "name": "ipython",
    "version": 3
   },
   "file_extension": ".py",
   "mimetype": "text/x-python",
   "name": "python",
   "nbconvert_exporter": "python",
   "pygments_lexer": "ipython3",
   "version": "3.6.3"
  }
 },
 "nbformat": 4,
 "nbformat_minor": 2
}
