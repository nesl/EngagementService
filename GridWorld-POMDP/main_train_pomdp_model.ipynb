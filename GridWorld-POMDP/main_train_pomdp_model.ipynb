{
 "cells": [
  {
   "cell_type": "code",
   "execution_count": 18,
   "metadata": {},
   "outputs": [],
   "source": [
    "from mdp_sequence_reader import MDPSequenceReader\n",
    "from training_pomdp_util import *\n",
    "from observable_markov_model import ObservableMarkovModel"
   ]
  },
  {
   "cell_type": "code",
   "execution_count": 19,
   "metadata": {},
   "outputs": [
    {
     "name": "stdout",
     "output_type": "stream",
     "text": [
      "Num states: 8\n",
      "Num steps: 10000\n"
     ]
    }
   ],
   "source": [
    "# read the sequence\n",
    "reader = MDPSequenceReader('sample_sequence/o_0_0.txt')\n",
    "print(\"Num states: %d\" % reader.get_num_states())\n",
    "print(\"Num steps: %d\" % reader.get_num_steps())"
   ]
  },
  {
   "cell_type": "code",
   "execution_count": 20,
   "metadata": {},
   "outputs": [],
   "source": [
    "# get the sequences\n",
    "observations = reader.get_observation_sequence()\n",
    "actions = reader.get_action_sequence()"
   ]
  },
  {
   "cell_type": "code",
   "execution_count": 21,
   "metadata": {},
   "outputs": [],
   "source": [
    "# get the initial model\n",
    "action_space = [0, 1, 2, 3]   # (up, right, down, left)\n",
    "num_states = reader.get_num_states()\n",
    "num_observables = 16   # binary measurements of 4 directions\n",
    "\n",
    "init_model = initialize_random_pomdp_model(num_states, action_space, num_observables)"
   ]
  },
  {
   "cell_type": "code",
   "execution_count": 22,
   "metadata": {},
   "outputs": [
    {
     "name": "stdout",
     "output_type": "stream",
     "text": [
      "round=1, log likelihood=-16633.272283\n",
      "round=2, log likelihood=-15596.648450\n",
      "round=3, log likelihood=-13774.092803\n",
      "round=4, log likelihood=-10723.534703\n",
      "round=5, log likelihood=-7859.906108\n",
      "round=6, log likelihood=-6478.890226\n",
      "round=7, log likelihood=-5616.118622\n",
      "round=8, log likelihood=-4617.529860\n",
      "round=9, log likelihood=-3645.438553\n",
      "round=10, log likelihood=-3205.139141\n",
      "round=11, log likelihood=-3027.972924\n",
      "round=12, log likelihood=-2890.285000\n",
      "round=13, log likelihood=-2826.162681\n",
      "round=14, log likelihood=-2816.793259\n",
      "round=15, log likelihood=-2815.372681\n",
      "round=16, log likelihood=-2813.848106\n",
      "round=17, log likelihood=-2812.039482\n",
      "round=18, log likelihood=-2809.895289\n",
      "round=19, log likelihood=-2807.378357\n",
      "round=20, log likelihood=-2804.465135\n",
      "round=21, log likelihood=-2801.144427\n",
      "round=22, log likelihood=-2797.414035\n",
      "round=23, log likelihood=-2793.275713\n",
      "round=24, log likelihood=-2788.730631\n",
      "round=25, log likelihood=-2783.778151\n",
      "round=26, log likelihood=-2778.419441\n",
      "round=27, log likelihood=-2772.664378\n",
      "round=28, log likelihood=-2766.536536\n",
      "round=29, log likelihood=-2760.069176\n",
      "round=30, log likelihood=-2753.288862\n",
      "round=31, log likelihood=-2746.193460\n",
      "round=32, log likelihood=-2738.740153\n",
      "round=33, log likelihood=-2730.855050\n",
      "round=34, log likelihood=-2722.459824\n",
      "round=35, log likelihood=-2713.500576\n",
      "round=36, log likelihood=-2703.970698\n",
      "round=37, log likelihood=-2693.929857\n",
      "round=38, log likelihood=-2683.517484\n",
      "round=39, log likelihood=-2672.947878\n",
      "round=40, log likelihood=-2662.478278\n",
      "round=41, log likelihood=-2652.363247\n",
      "round=42, log likelihood=-2642.822613\n",
      "round=43, log likelihood=-2634.036971\n",
      "round=44, log likelihood=-2626.157341\n",
      "round=45, log likelihood=-2619.302791\n",
      "round=46, log likelihood=-2613.537718\n",
      "round=47, log likelihood=-2608.849513\n",
      "round=48, log likelihood=-2605.150237\n",
      "round=49, log likelihood=-2602.302107\n",
      "round=50, log likelihood=-2600.149586\n",
      "round=51, log likelihood=-2598.543962\n",
      "round=52, log likelihood=-2597.356543\n",
      "round=53, log likelihood=-2596.482839\n",
      "round=54, log likelihood=-2595.841486\n",
      "round=55, log likelihood=-2595.370862\n",
      "round=56, log likelihood=-2595.025146\n",
      "round=57, log likelihood=-2594.770657\n",
      "round=58, log likelihood=-2594.582812\n",
      "round=59, log likelihood=-2594.443726\n",
      "round=60, log likelihood=-2594.340405\n",
      "round=61, log likelihood=-2594.263397\n",
      "round=62, log likelihood=-2594.205816\n",
      "round=63, log likelihood=-2594.162627\n",
      "round=64, log likelihood=-2594.130138\n",
      "round=65, log likelihood=-2594.105633\n",
      "round=66, log likelihood=-2594.087104\n",
      "round=67, log likelihood=-2594.073062\n",
      "round=68, log likelihood=-2594.062398\n",
      "round=69, log likelihood=-2594.054284\n",
      "round=70, log likelihood=-2594.048100\n",
      "round=71, log likelihood=-2594.043380\n",
      "round=72, log likelihood=-2594.039772\n",
      "round=73, log likelihood=-2594.037011\n",
      "round=74, log likelihood=-2594.034895\n",
      "round=75, log likelihood=-2594.033273\n",
      "round=76, log likelihood=-2594.032027\n",
      "round=77, log likelihood=-2594.031070\n"
     ]
    },
    {
     "ename": "KeyboardInterrupt",
     "evalue": "",
     "output_type": "error",
     "traceback": [
      "\u001b[0;31m---------------------------------------------------------------------------\u001b[0m",
      "\u001b[0;31mKeyboardInterrupt\u001b[0m                         Traceback (most recent call last)",
      "\u001b[0;32m<ipython-input-22-47f4a14d05f5>\u001b[0m in \u001b[0;36m<module>\u001b[0;34m()\u001b[0m\n\u001b[1;32m      4\u001b[0m     \u001b[0mnew_model\u001b[0m \u001b[0;34m=\u001b[0m \u001b[0mObservableMarkovModel\u001b[0m\u001b[0;34m(\u001b[0m\u001b[0malist\u001b[0m\u001b[0;34m,\u001b[0m \u001b[0mc\u001b[0m\u001b[0;34m,\u001b[0m \u001b[0mmodel\u001b[0m\u001b[0;34m.\u001b[0m\u001b[0minit\u001b[0m\u001b[0;34m)\u001b[0m\u001b[0;34m\u001b[0m\u001b[0m\n\u001b[1;32m      5\u001b[0m \u001b[0;34m\u001b[0m\u001b[0m\n\u001b[0;32m----> 6\u001b[0;31m     \u001b[0mlog_likelihood\u001b[0m \u001b[0;34m=\u001b[0m \u001b[0mget_log_likelihood\u001b[0m\u001b[0;34m(\u001b[0m\u001b[0mmake_tableaus\u001b[0m\u001b[0;34m(\u001b[0m\u001b[0mxs\u001b[0m\u001b[0;34m=\u001b[0m\u001b[0mactions\u001b[0m\u001b[0;34m,\u001b[0m \u001b[0mys\u001b[0m\u001b[0;34m=\u001b[0m\u001b[0mobservations\u001b[0m\u001b[0;34m,\u001b[0m \u001b[0mm\u001b[0m\u001b[0;34m=\u001b[0m\u001b[0mnew_model\u001b[0m\u001b[0;34m)\u001b[0m\u001b[0;34m)\u001b[0m\u001b[0;34m\u001b[0m\u001b[0m\n\u001b[0m\u001b[1;32m      7\u001b[0m     \u001b[0mprint\u001b[0m\u001b[0;34m(\u001b[0m\u001b[0;34m\"round=%d, log likelihood=%f\"\u001b[0m \u001b[0;34m%\u001b[0m \u001b[0;34m(\u001b[0m\u001b[0mr\u001b[0m\u001b[0;34m+\u001b[0m\u001b[0;36m1\u001b[0m\u001b[0;34m,\u001b[0m \u001b[0mlog_likelihood\u001b[0m\u001b[0;34m)\u001b[0m\u001b[0;34m)\u001b[0m\u001b[0;34m\u001b[0m\u001b[0m\n\u001b[1;32m      8\u001b[0m \u001b[0;34m\u001b[0m\u001b[0m\n",
      "\u001b[0;32m~/Documents/EngagementService/GridWorld-POMDP/training_pomdp_util.py\u001b[0m in \u001b[0;36mmake_tableaus\u001b[0;34m(xs, ys, m)\u001b[0m\n\u001b[1;32m     68\u001b[0m         \u001b[0malpha\u001b[0m\u001b[0;34m[\u001b[0m\u001b[0mi\u001b[0m\u001b[0;34m:\u001b[0m\u001b[0mi\u001b[0m\u001b[0;34m+\u001b[0m\u001b[0;36m1\u001b[0m\u001b[0;34m,\u001b[0m\u001b[0;34m:\u001b[0m\u001b[0;34m]\u001b[0m \u001b[0;34m=\u001b[0m \u001b[0mN\u001b[0m\u001b[0;34m[\u001b[0m\u001b[0mi\u001b[0m\u001b[0;34m,\u001b[0m\u001b[0;36m0\u001b[0m\u001b[0;34m]\u001b[0m\u001b[0;34m*\u001b[0m\u001b[0mgamma\u001b[0m\u001b[0;34m[\u001b[0m\u001b[0mi\u001b[0m\u001b[0;34m:\u001b[0m\u001b[0mi\u001b[0m\u001b[0;34m+\u001b[0m\u001b[0;36m1\u001b[0m\u001b[0;34m,\u001b[0m\u001b[0;34m:\u001b[0m\u001b[0;34m]\u001b[0m\u001b[0;34m\u001b[0m\u001b[0m\n\u001b[1;32m     69\u001b[0m     \u001b[0;32mfor\u001b[0m \u001b[0mi\u001b[0m \u001b[0;32min\u001b[0m \u001b[0mrange\u001b[0m\u001b[0;34m(\u001b[0m\u001b[0mslen\u001b[0m\u001b[0;34m-\u001b[0m\u001b[0;36m1\u001b[0m\u001b[0;34m,\u001b[0m \u001b[0;36m0\u001b[0m\u001b[0;34m,\u001b[0m \u001b[0;34m-\u001b[0m\u001b[0;36m1\u001b[0m\u001b[0;34m)\u001b[0m\u001b[0;34m:\u001b[0m\u001b[0;34m\u001b[0m\u001b[0m\n\u001b[0;32m---> 70\u001b[0;31m         \u001b[0mbeta\u001b[0m\u001b[0;34m[\u001b[0m\u001b[0mi\u001b[0m\u001b[0;34m-\u001b[0m\u001b[0;36m1\u001b[0m\u001b[0;34m:\u001b[0m\u001b[0mi\u001b[0m\u001b[0;34m]\u001b[0m \u001b[0;34m=\u001b[0m \u001b[0mN\u001b[0m\u001b[0;34m[\u001b[0m\u001b[0mi\u001b[0m\u001b[0;34m]\u001b[0m \u001b[0;34m*\u001b[0m \u001b[0mnp\u001b[0m\u001b[0;34m.\u001b[0m\u001b[0msum\u001b[0m\u001b[0;34m(\u001b[0m\u001b[0mm\u001b[0m\u001b[0;34m.\u001b[0m\u001b[0malist\u001b[0m\u001b[0;34m[\u001b[0m\u001b[0mxs\u001b[0m\u001b[0;34m[\u001b[0m\u001b[0mi\u001b[0m\u001b[0;34m-\u001b[0m\u001b[0;36m1\u001b[0m\u001b[0;34m]\u001b[0m\u001b[0;34m]\u001b[0m \u001b[0;34m*\u001b[0m \u001b[0;34m(\u001b[0m\u001b[0mm\u001b[0m\u001b[0;34m.\u001b[0m\u001b[0mc\u001b[0m\u001b[0;34m[\u001b[0m\u001b[0mys\u001b[0m\u001b[0;34m[\u001b[0m\u001b[0mi\u001b[0m\u001b[0;34m]\u001b[0m\u001b[0;34m:\u001b[0m\u001b[0mys\u001b[0m\u001b[0;34m[\u001b[0m\u001b[0mi\u001b[0m\u001b[0;34m]\u001b[0m\u001b[0;34m+\u001b[0m\u001b[0;36m1\u001b[0m\u001b[0;34m,\u001b[0m\u001b[0;34m:\u001b[0m\u001b[0;34m]\u001b[0m \u001b[0;34m*\u001b[0m \u001b[0mbeta\u001b[0m\u001b[0;34m[\u001b[0m\u001b[0mi\u001b[0m\u001b[0;34m:\u001b[0m\u001b[0mi\u001b[0m\u001b[0;34m+\u001b[0m\u001b[0;36m1\u001b[0m\u001b[0;34m,\u001b[0m\u001b[0;34m:\u001b[0m\u001b[0;34m]\u001b[0m\u001b[0;34m)\u001b[0m\u001b[0;34m.\u001b[0m\u001b[0mT\u001b[0m\u001b[0;34m,\u001b[0m \u001b[0maxis\u001b[0m\u001b[0;34m=\u001b[0m\u001b[0;36m0\u001b[0m\u001b[0;34m)\u001b[0m\u001b[0;34m\u001b[0m\u001b[0m\n\u001b[0m\u001b[1;32m     71\u001b[0m \u001b[0;34m\u001b[0m\u001b[0m\n\u001b[1;32m     72\u001b[0m     \u001b[0;32mreturn\u001b[0m \u001b[0malpha\u001b[0m\u001b[0;34m,\u001b[0m \u001b[0mbeta\u001b[0m\u001b[0;34m,\u001b[0m \u001b[0mN\u001b[0m\u001b[0;34m\u001b[0m\u001b[0m\n",
      "\u001b[0;31mKeyboardInterrupt\u001b[0m: "
     ]
    }
   ],
   "source": [
    "model = init_model\n",
    "for r in range(100):\n",
    "    alist, c = improve_params(xs=actions, ys=observations, m=model)\n",
    "    new_model = ObservableMarkovModel(alist, c, model.init)\n",
    "    \n",
    "    log_likelihood = get_log_likelihood(make_tableaus(xs=actions, ys=observations, m=new_model))\n",
    "    print(\"round=%d, log likelihood=%f\" % (r+1, log_likelihood))\n",
    "    \n",
    "    model = new_model"
   ]
  },
  {
   "cell_type": "code",
   "execution_count": null,
   "metadata": {},
   "outputs": [],
   "source": [
    "print(alist, c)"
   ]
  },
  {
   "cell_type": "code",
   "execution_count": 31,
   "metadata": {},
   "outputs": [
    {
     "name": "stdout",
     "output_type": "stream",
     "text": [
      "[[0. 0. 0. 0. 0. 0. 0.]\n",
      " [0. 0. 0. 0. 0. 0. 0.]\n",
      " [0. 0. 0. 0. 0. 0. 0.]\n",
      " [0. 0. 0. 0. 0. 0. 0.]\n",
      " [0. 0. 0. 0. 0. 0. 0.]]\n",
      "--\n",
      "[[[0. 0. 0. 0. 0. 0. 0.]\n",
      "  [0. 0. 0. 0. 0. 0. 0.]\n",
      "  [0. 0. 0. 0. 0. 0. 0.]\n",
      "  [0. 0. 0. 0. 0. 0. 0.]\n",
      "  [0. 0. 0. 0. 0. 0. 0.]]]\n",
      "--\n",
      "[[[0. 0. 0. 0. 0. 0. 0.]\n",
      "  [0. 0. 0. 0. 0. 0. 0.]\n",
      "  [0. 0. 0. 0. 0. 0. 0.]\n",
      "  [0. 0. 0. 0. 0. 0. 0.]\n",
      "  [0. 0. 0. 0. 0. 0. 0.]]\n",
      "\n",
      " [[0. 0. 0. 0. 0. 0. 0.]\n",
      "  [0. 0. 0. 0. 0. 0. 0.]\n",
      "  [0. 0. 0. 0. 0. 0. 0.]\n",
      "  [0. 0. 0. 0. 0. 0. 0.]\n",
      "  [0. 0. 0. 0. 0. 0. 0.]]\n",
      "\n",
      " [[0. 0. 0. 0. 0. 0. 0.]\n",
      "  [0. 0. 0. 0. 0. 0. 0.]\n",
      "  [0. 0. 0. 0. 0. 0. 0.]\n",
      "  [0. 0. 0. 0. 0. 0. 0.]\n",
      "  [0. 0. 0. 0. 0. 0. 0.]]]\n",
      "--\n",
      "[[[0. 0. 0. 0. 0. 0. 0.]\n",
      "  [0. 0. 0. 0. 0. 0. 0.]\n",
      "  [3. 3. 3. 3. 3. 3. 3.]\n",
      "  [0. 0. 0. 0. 0. 0. 0.]\n",
      "  [0. 0. 0. 0. 0. 0. 0.]]\n",
      "\n",
      " [[0. 0. 0. 0. 0. 0. 0.]\n",
      "  [0. 0. 0. 0. 0. 0. 0.]\n",
      "  [3. 3. 3. 3. 3. 3. 3.]\n",
      "  [0. 0. 0. 0. 0. 0. 0.]\n",
      "  [0. 0. 0. 0. 0. 0. 0.]]\n",
      "\n",
      " [[0. 0. 0. 0. 0. 0. 0.]\n",
      "  [0. 0. 0. 0. 0. 0. 0.]\n",
      "  [3. 3. 3. 3. 3. 3. 3.]\n",
      "  [0. 0. 0. 0. 0. 0. 0.]\n",
      "  [0. 0. 0. 0. 0. 0. 0.]]]\n",
      "--\n",
      "[[[0. 0. 0. 0. 0. 0. 0.]\n",
      "  [0. 0. 0. 0. 0. 0. 0.]\n",
      "  [3. 3. 3. 3. 3. 3. 3.]\n",
      "  [0. 0. 0. 0. 0. 0. 0.]\n",
      "  [0. 0. 0. 0. 0. 0. 0.]]\n",
      "\n",
      " [[0. 0. 0. 0. 0. 0. 0.]\n",
      "  [0. 0. 0. 0. 0. 0. 0.]\n",
      "  [3. 3. 3. 3. 3. 3. 3.]\n",
      "  [0. 0. 0. 0. 0. 0. 0.]\n",
      "  [0. 0. 0. 0. 0. 0. 0.]]\n",
      "\n",
      " [[7. 7. 7. 7. 7. 7. 7.]\n",
      "  [7. 7. 7. 7. 7. 7. 7.]\n",
      "  [7. 7. 7. 7. 7. 7. 7.]\n",
      "  [7. 7. 7. 7. 7. 7. 7.]\n",
      "  [7. 7. 7. 7. 7. 7. 7.]]]\n",
      "--\n",
      "[[[0. 0. 9. 0. 0. 0. 0.]\n",
      "  [0. 0. 9. 0. 0. 0. 0.]\n",
      "  [3. 3. 9. 3. 3. 3. 3.]\n",
      "  [0. 0. 9. 0. 0. 0. 0.]\n",
      "  [0. 0. 9. 0. 0. 0. 0.]]\n",
      "\n",
      " [[0. 0. 9. 0. 0. 0. 0.]\n",
      "  [0. 0. 9. 0. 0. 0. 0.]\n",
      "  [3. 3. 9. 3. 3. 3. 3.]\n",
      "  [0. 0. 9. 0. 0. 0. 0.]\n",
      "  [0. 0. 9. 0. 0. 0. 0.]]\n",
      "\n",
      " [[7. 7. 9. 7. 7. 7. 7.]\n",
      "  [7. 7. 9. 7. 7. 7. 7.]\n",
      "  [7. 7. 9. 7. 7. 7. 7.]\n",
      "  [7. 7. 9. 7. 7. 7. 7.]\n",
      "  [7. 7. 9. 7. 7. 7. 7.]]]\n"
     ]
    }
   ],
   "source": [
    "a = np.zeros((3, 5, 7))\n",
    "print(a[2, :, :])\n",
    "print('--')\n",
    "print(a[2:3, :, :])\n",
    "print('--')\n",
    "print(a)\n",
    "a[:, 2, :] = 3\n",
    "print('--')\n",
    "print(a)\n",
    "print('--')\n",
    "a[2] = 7\n",
    "print(a)\n",
    "a[:,:,2] = 9\n",
    "print('--')\n",
    "print(a)"
   ]
  },
  {
   "cell_type": "code",
   "execution_count": null,
   "metadata": {},
   "outputs": [],
   "source": []
  }
 ],
 "metadata": {
  "kernelspec": {
   "display_name": "Python 3",
   "language": "python",
   "name": "python3"
  },
  "language_info": {
   "codemirror_mode": {
    "name": "ipython",
    "version": 3
   },
   "file_extension": ".py",
   "mimetype": "text/x-python",
   "name": "python",
   "nbconvert_exporter": "python",
   "pygments_lexer": "ipython3",
   "version": "3.4.1"
  }
 },
 "nbformat": 4,
 "nbformat_minor": 2
}
