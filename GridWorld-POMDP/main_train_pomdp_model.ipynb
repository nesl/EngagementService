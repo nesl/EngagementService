{
 "cells": [
  {
   "cell_type": "code",
   "execution_count": 1,
   "metadata": {},
   "outputs": [],
   "source": [
    "from mdp_sequence_reader import MDPSequenceReader\n",
    "from training_pomdp_util import *\n",
    "from observable_markov_model import ObservableMarkovModel"
   ]
  },
  {
   "cell_type": "code",
   "execution_count": 2,
   "metadata": {},
   "outputs": [
    {
     "name": "stdout",
     "output_type": "stream",
     "text": [
      "Num states: 8\n",
      "Num steps: 10000\n"
     ]
    }
   ],
   "source": [
    "# read the sequence\n",
    "reader = MDPSequenceReader('sample_sequence/o_0_0.txt')\n",
    "print(\"Num states: %d\" % reader.get_num_states())\n",
    "print(\"Num steps: %d\" % reader.get_num_steps())"
   ]
  },
  {
   "cell_type": "code",
   "execution_count": 3,
   "metadata": {},
   "outputs": [],
   "source": [
    "# get the sequences\n",
    "observations = reader.get_observation_sequence()\n",
    "actions = reader.get_action_sequence()"
   ]
  },
  {
   "cell_type": "code",
   "execution_count": 4,
   "metadata": {},
   "outputs": [],
   "source": [
    "# get the initial model\n",
    "action_space = [0, 1, 2, 3]   # (up, right, down, left)\n",
    "num_states = reader.get_num_states()\n",
    "num_observables = 16   # binary measurements of 4 directions\n",
    "\n",
    "init_model = initialize_random_pomdp_model(num_states, action_space, num_observables)"
   ]
  },
  {
   "cell_type": "code",
   "execution_count": 5,
   "metadata": {},
   "outputs": [
    {
     "name": "stdout",
     "output_type": "stream",
     "text": [
      "<class 'numpy.ndarray'>\n",
      "(10000, 8)\n",
      "[[0.01075644 0.04783689 0.60385933 0.11365482 0.16497539 0.02892415\n",
      "  0.00969056 0.02030241]\n",
      " [0.15851476 0.47947929 0.24085749 0.01063576 0.00579281 0.08713454\n",
      "  0.00794051 0.00964485]\n",
      " [0.10543255 0.04054984 0.03072127 0.10115795 0.05202526 0.31876234\n",
      "  0.34910058 0.00225022]\n",
      " [0.16369731 0.04175037 0.16011173 0.12216837 0.04071468 0.24068659\n",
      "  0.22575579 0.00511515]\n",
      " [0.16337659 0.04459949 0.14904932 0.08607985 0.04362884 0.23209305\n",
      "  0.27615581 0.00501706]\n",
      " [0.16302205 0.05213822 0.12449552 0.03259635 0.07315529 0.14690834\n",
      "  0.40485028 0.00283395]\n",
      " [0.18130733 0.02937124 0.12420873 0.03281668 0.08189286 0.20652385\n",
      "  0.34191573 0.00196357]\n",
      " [0.14908131 0.0083244  0.07064832 0.11408594 0.05194836 0.38744886\n",
      "  0.21394725 0.00451557]\n",
      " [0.18666194 0.02013709 0.17330184 0.02547166 0.3151284  0.05977697\n",
      "  0.1092093  0.1103128 ]\n",
      " [0.1938316  0.01719841 0.10391948 0.04497446 0.25493151 0.03282897\n",
      "  0.07257838 0.27973718]]\n",
      "round=1, log likelihood=-16080.684721\n"
     ]
    }
   ],
   "source": [
    "model = init_model\n",
    "for r in range(1):\n",
    "    alist, c = improve_params(xs=actions, ys=observations, m=model)\n",
    "    new_model = ObservableMarkovModel(alist, c, model.init)\n",
    "    \n",
    "    log_likelihood = get_log_likelihood(make_tableaus(xs=actions, ys=observations, m=new_model))\n",
    "    print(\"round=%d, log likelihood=%f\" % (r+1, log_likelihood))\n",
    "    \n",
    "    model = new_model"
   ]
  },
  {
   "cell_type": "code",
   "execution_count": null,
   "metadata": {},
   "outputs": [],
   "source": [
    "print(alist, c)"
   ]
  },
  {
   "cell_type": "code",
   "execution_count": 31,
   "metadata": {},
   "outputs": [
    {
     "name": "stdout",
     "output_type": "stream",
     "text": [
      "[[0. 0. 0. 0. 0. 0. 0.]\n",
      " [0. 0. 0. 0. 0. 0. 0.]\n",
      " [0. 0. 0. 0. 0. 0. 0.]\n",
      " [0. 0. 0. 0. 0. 0. 0.]\n",
      " [0. 0. 0. 0. 0. 0. 0.]]\n",
      "--\n",
      "[[[0. 0. 0. 0. 0. 0. 0.]\n",
      "  [0. 0. 0. 0. 0. 0. 0.]\n",
      "  [0. 0. 0. 0. 0. 0. 0.]\n",
      "  [0. 0. 0. 0. 0. 0. 0.]\n",
      "  [0. 0. 0. 0. 0. 0. 0.]]]\n",
      "--\n",
      "[[[0. 0. 0. 0. 0. 0. 0.]\n",
      "  [0. 0. 0. 0. 0. 0. 0.]\n",
      "  [0. 0. 0. 0. 0. 0. 0.]\n",
      "  [0. 0. 0. 0. 0. 0. 0.]\n",
      "  [0. 0. 0. 0. 0. 0. 0.]]\n",
      "\n",
      " [[0. 0. 0. 0. 0. 0. 0.]\n",
      "  [0. 0. 0. 0. 0. 0. 0.]\n",
      "  [0. 0. 0. 0. 0. 0. 0.]\n",
      "  [0. 0. 0. 0. 0. 0. 0.]\n",
      "  [0. 0. 0. 0. 0. 0. 0.]]\n",
      "\n",
      " [[0. 0. 0. 0. 0. 0. 0.]\n",
      "  [0. 0. 0. 0. 0. 0. 0.]\n",
      "  [0. 0. 0. 0. 0. 0. 0.]\n",
      "  [0. 0. 0. 0. 0. 0. 0.]\n",
      "  [0. 0. 0. 0. 0. 0. 0.]]]\n",
      "--\n",
      "[[[0. 0. 0. 0. 0. 0. 0.]\n",
      "  [0. 0. 0. 0. 0. 0. 0.]\n",
      "  [3. 3. 3. 3. 3. 3. 3.]\n",
      "  [0. 0. 0. 0. 0. 0. 0.]\n",
      "  [0. 0. 0. 0. 0. 0. 0.]]\n",
      "\n",
      " [[0. 0. 0. 0. 0. 0. 0.]\n",
      "  [0. 0. 0. 0. 0. 0. 0.]\n",
      "  [3. 3. 3. 3. 3. 3. 3.]\n",
      "  [0. 0. 0. 0. 0. 0. 0.]\n",
      "  [0. 0. 0. 0. 0. 0. 0.]]\n",
      "\n",
      " [[0. 0. 0. 0. 0. 0. 0.]\n",
      "  [0. 0. 0. 0. 0. 0. 0.]\n",
      "  [3. 3. 3. 3. 3. 3. 3.]\n",
      "  [0. 0. 0. 0. 0. 0. 0.]\n",
      "  [0. 0. 0. 0. 0. 0. 0.]]]\n",
      "--\n",
      "[[[0. 0. 0. 0. 0. 0. 0.]\n",
      "  [0. 0. 0. 0. 0. 0. 0.]\n",
      "  [3. 3. 3. 3. 3. 3. 3.]\n",
      "  [0. 0. 0. 0. 0. 0. 0.]\n",
      "  [0. 0. 0. 0. 0. 0. 0.]]\n",
      "\n",
      " [[0. 0. 0. 0. 0. 0. 0.]\n",
      "  [0. 0. 0. 0. 0. 0. 0.]\n",
      "  [3. 3. 3. 3. 3. 3. 3.]\n",
      "  [0. 0. 0. 0. 0. 0. 0.]\n",
      "  [0. 0. 0. 0. 0. 0. 0.]]\n",
      "\n",
      " [[7. 7. 7. 7. 7. 7. 7.]\n",
      "  [7. 7. 7. 7. 7. 7. 7.]\n",
      "  [7. 7. 7. 7. 7. 7. 7.]\n",
      "  [7. 7. 7. 7. 7. 7. 7.]\n",
      "  [7. 7. 7. 7. 7. 7. 7.]]]\n",
      "--\n",
      "[[[0. 0. 9. 0. 0. 0. 0.]\n",
      "  [0. 0. 9. 0. 0. 0. 0.]\n",
      "  [3. 3. 9. 3. 3. 3. 3.]\n",
      "  [0. 0. 9. 0. 0. 0. 0.]\n",
      "  [0. 0. 9. 0. 0. 0. 0.]]\n",
      "\n",
      " [[0. 0. 9. 0. 0. 0. 0.]\n",
      "  [0. 0. 9. 0. 0. 0. 0.]\n",
      "  [3. 3. 9. 3. 3. 3. 3.]\n",
      "  [0. 0. 9. 0. 0. 0. 0.]\n",
      "  [0. 0. 9. 0. 0. 0. 0.]]\n",
      "\n",
      " [[7. 7. 9. 7. 7. 7. 7.]\n",
      "  [7. 7. 9. 7. 7. 7. 7.]\n",
      "  [7. 7. 9. 7. 7. 7. 7.]\n",
      "  [7. 7. 9. 7. 7. 7. 7.]\n",
      "  [7. 7. 9. 7. 7. 7. 7.]]]\n"
     ]
    }
   ],
   "source": [
    "a = np.zeros((3, 5, 7))\n",
    "print(a[2, :, :])\n",
    "print('--')\n",
    "print(a[2:3, :, :])\n",
    "print('--')\n",
    "print(a)\n",
    "a[:, 2, :] = 3\n",
    "print('--')\n",
    "print(a)\n",
    "print('--')\n",
    "a[2] = 7\n",
    "print(a)\n",
    "a[:,:,2] = 9\n",
    "print('--')\n",
    "print(a)"
   ]
  },
  {
   "cell_type": "code",
   "execution_count": 8,
   "metadata": {},
   "outputs": [
    {
     "data": {
      "text/plain": [
       "0.9999999900000001"
      ]
     },
     "execution_count": 8,
     "metadata": {},
     "output_type": "execute_result"
    }
   ],
   "source": [
    "sum([0.01075644, 0.04783689, 0.60385933, 0.11365482, 0.16497539, 0.02892415,\n",
    "  0.00969056,0.02030241])"
   ]
  },
  {
   "cell_type": "code",
   "execution_count": null,
   "metadata": {},
   "outputs": [],
   "source": []
  }
 ],
 "metadata": {
  "kernelspec": {
   "display_name": "Python 3",
   "language": "python",
   "name": "python3"
  },
  "language_info": {
   "codemirror_mode": {
    "name": "ipython",
    "version": 3
   },
   "file_extension": ".py",
   "mimetype": "text/x-python",
   "name": "python",
   "nbconvert_exporter": "python",
   "pygments_lexer": "ipython3",
   "version": "3.4.1"
  }
 },
 "nbformat": 4,
 "nbformat_minor": 2
}
