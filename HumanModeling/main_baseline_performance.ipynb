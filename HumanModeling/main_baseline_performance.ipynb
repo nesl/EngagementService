{
 "cells": [
  {
   "cell_type": "code",
   "execution_count": 1,
   "metadata": {},
   "outputs": [
    {
     "name": "stderr",
     "output_type": "stream",
     "text": [
      "Using TensorFlow backend.\n"
     ]
    }
   ],
   "source": [
    "import numpy as np\n",
    "\n",
    "from agent import *\n",
    "from environment import *\n",
    "from behavior import *\n",
    "from controller import Controller"
   ]
  },
  {
   "cell_type": "code",
   "execution_count": 2,
   "metadata": {},
   "outputs": [],
   "source": [
    "def getEnvironmentTraining():\n",
    "    return MTurkSurveyUser(filePaths=[\n",
    "            'survey/ver2_mturk/results/01_1st_Batch_3137574_batch_results.csv',\n",
    "            'survey/ver2_mturk/results/02_Batch_3148398_batch_results.csv',\n",
    "            'survey/ver2_mturk/results/03_Batch_3149214_batch_results.csv',\n",
    "    ], filterFunc=(lambda r: ord(r['rawWorkerID'][-1]) % 2 == 0), dismissWarningMsg=True)\n",
    "\n",
    "def getEnvironmentTesting():\n",
    "    return MTurkSurveyUser(filePaths=[\n",
    "            'survey/ver2_mturk/results/01_1st_Batch_3137574_batch_results.csv',\n",
    "            'survey/ver2_mturk/results/02_Batch_3148398_batch_results.csv',\n",
    "            'survey/ver2_mturk/results/03_Batch_3149214_batch_results.csv',\n",
    "    ], filterFunc=(lambda r: ord(r['rawWorkerID'][-1]) % 2 == 1), dismissWarningMsg=True)"
   ]
  },
  {
   "cell_type": "code",
   "execution_count": 3,
   "metadata": {},
   "outputs": [],
   "source": [
    "def getResponseRates(results):\n",
    "    \"\"\"\n",
    "    Returns: (# notifications, response rate)\n",
    "    \"\"\"\n",
    "    notificationEvents = [r for r in results if r['decision']]\n",
    "    numNotifications = len(notificationEvents)\n",
    "    numAcceptedNotifications = len([r for r in notificationEvents if r['reward'] > 0])\n",
    "    numDismissedNotifications = len([r for r in notificationEvents if r['reward'] < 0])\n",
    "    numAcceptsDismisses = numAcceptedNotifications + numDismissedNotifications\n",
    "    responseRate = numAcceptedNotifications / numAcceptsDismisses if numAcceptsDismisses > 0 else 0\n",
    "    return (numNotifications, responseRate)"
   ]
  },
  {
   "cell_type": "code",
   "execution_count": 8,
   "metadata": {},
   "outputs": [],
   "source": [
    "tmpModelPath = '/tmp/model.txt'\n",
    "numRounds = 1"
   ]
  },
  {
   "cell_type": "code",
   "execution_count": 11,
   "metadata": {},
   "outputs": [],
   "source": [
    "agents = [SVMAgent, NNAgent]\n",
    "trainingSource = [\n",
    "    (getEnvironmentTesting, 2),\n",
    "    (getEnvironmentTesting, 4),\n",
    "    (getEnvironmentTesting, 10),\n",
    "]\n",
    "behaviorSource = [\n",
    "    'behavior/data/2.txt',\n",
    "    'behavior/data/4.txt',\n",
    "    'behavior/data/5.txt',\n",
    "    'behavior/data/6.txt',\n",
    "]\n",
    "\n",
    "numAgents = len(agents)\n",
    "numTrainingTasks = len(trainingSource)\n",
    "resultResponseRatio = np.zeros((numAgents, numTrainingTasks))"
   ]
  },
  {
   "cell_type": "code",
   "execution_count": 12,
   "metadata": {},
   "outputs": [
    {
     "name": "stdout",
     "output_type": "stream",
     "text": [
      "Begin to train the model\n",
      "Finish training the model\n",
      "Begin to train the model\n",
      "Finish training the model\n",
      "Begin to train the model\n",
      "Finish training the model\n",
      "Begin to train the model\n",
      "Finish training the model\n",
      "Begin to train the model\n",
      "Finish training the model\n",
      "Begin to train the model\n",
      "Finish training the model\n",
      "Begin to train the model\n",
      "Finish training the model\n",
      "Begin to train the model\n",
      "Finish training the model\n",
      "Begin to train the model\n",
      "Finish training the model\n",
      "Begin to train the model\n",
      "Finish training the model\n",
      "Begin to train the model\n",
      "Finish training the model\n",
      "Begin to train the model\n",
      "Finish training the model\n",
      "Begin to train the model\n",
      "Finish training the model\n",
      "Begin to train the model\n",
      "Finish training the model\n",
      "Begin to train the model\n",
      "Finish training the model\n",
      "Begin to train the model\n",
      "Finish training the model\n",
      "Begin to train the model\n",
      "Finish training the model\n",
      "Begin to train the model\n",
      "Finish training the model\n",
      "Begin to train the model\n",
      "Finish training the model\n",
      "Begin to train the model\n",
      "Finish training the model\n",
      "Begin to train the model\n",
      "Finish training the model\n",
      "Begin to train the model\n",
      "Finish training the model\n",
      "Begin to train the model\n",
      "Finish training the model\n",
      "Begin to train the model\n",
      "Finish training the model\n",
      "(<class 'agent.svm_agent.SVMAgent'>, (<function getEnvironmentTesting at 0x11f5e8c80>, 2), 'behavior/data/2.txt', 2582.0, 0.7785234899328859)\n",
      "(<class 'agent.svm_agent.SVMAgent'>, (<function getEnvironmentTesting at 0x11f5e8c80>, 2), 'behavior/data/4.txt', 2420.0, 0.7274193548387097)\n",
      "(<class 'agent.svm_agent.SVMAgent'>, (<function getEnvironmentTesting at 0x11f5e8c80>, 2), 'behavior/data/5.txt', 2540.0, 0.6763555058692007)\n",
      "(<class 'agent.svm_agent.SVMAgent'>, (<function getEnvironmentTesting at 0x11f5e8c80>, 2), 'behavior/data/6.txt', 1.0, 0.0)\n",
      "(<class 'agent.svm_agent.SVMAgent'>, (<function getEnvironmentTesting at 0x11f5e8c80>, 4), 'behavior/data/2.txt', 42.0, 1.0)\n",
      "(<class 'agent.svm_agent.SVMAgent'>, (<function getEnvironmentTesting at 0x11f5e8c80>, 4), 'behavior/data/4.txt', 0.0, 0.0)\n",
      "(<class 'agent.svm_agent.SVMAgent'>, (<function getEnvironmentTesting at 0x11f5e8c80>, 4), 'behavior/data/5.txt', 1310.0, 0.7138643067846607)\n",
      "(<class 'agent.svm_agent.SVMAgent'>, (<function getEnvironmentTesting at 0x11f5e8c80>, 4), 'behavior/data/6.txt', 0.0, 0.0)\n",
      "(<class 'agent.svm_agent.SVMAgent'>, (<function getEnvironmentTesting at 0x11f5e8c80>, 10), 'behavior/data/2.txt', 101.0, 0.9090909090909091)\n",
      "(<class 'agent.svm_agent.SVMAgent'>, (<function getEnvironmentTesting at 0x11f5e8c80>, 10), 'behavior/data/4.txt', 1020.0, 0.762778505897772)\n",
      "(<class 'agent.svm_agent.SVMAgent'>, (<function getEnvironmentTesting at 0x11f5e8c80>, 10), 'behavior/data/5.txt', 1000.0, 0.7692307692307693)\n",
      "(<class 'agent.svm_agent.SVMAgent'>, (<function getEnvironmentTesting at 0x11f5e8c80>, 10), 'behavior/data/6.txt', 2240.0, 0.7886977886977887)\n",
      "(<class 'agent.nn_agent.NNAgent'>, (<function getEnvironmentTesting at 0x11f5e8c80>, 2), 'behavior/data/2.txt', 140.0, 0.6814159292035398)\n",
      "(<class 'agent.nn_agent.NNAgent'>, (<function getEnvironmentTesting at 0x11f5e8c80>, 2), 'behavior/data/4.txt', 0.0, 0.0)\n",
      "(<class 'agent.nn_agent.NNAgent'>, (<function getEnvironmentTesting at 0x11f5e8c80>, 2), 'behavior/data/5.txt', 0.0, 0.0)\n",
      "(<class 'agent.nn_agent.NNAgent'>, (<function getEnvironmentTesting at 0x11f5e8c80>, 2), 'behavior/data/6.txt', 0.0, 0.0)\n",
      "(<class 'agent.nn_agent.NNAgent'>, (<function getEnvironmentTesting at 0x11f5e8c80>, 4), 'behavior/data/2.txt', 0.0, 0.0)\n",
      "(<class 'agent.nn_agent.NNAgent'>, (<function getEnvironmentTesting at 0x11f5e8c80>, 4), 'behavior/data/4.txt', 69.0, 0.576271186440678)\n",
      "(<class 'agent.nn_agent.NNAgent'>, (<function getEnvironmentTesting at 0x11f5e8c80>, 4), 'behavior/data/5.txt', 0.0, 0.0)\n",
      "(<class 'agent.nn_agent.NNAgent'>, (<function getEnvironmentTesting at 0x11f5e8c80>, 4), 'behavior/data/6.txt', 0.0, 0.0)\n",
      "(<class 'agent.nn_agent.NNAgent'>, (<function getEnvironmentTesting at 0x11f5e8c80>, 10), 'behavior/data/2.txt', 5880.0, 0.7546226886556722)\n",
      "(<class 'agent.nn_agent.NNAgent'>, (<function getEnvironmentTesting at 0x11f5e8c80>, 10), 'behavior/data/4.txt', 0.0, 0.0)\n",
      "(<class 'agent.nn_agent.NNAgent'>, (<function getEnvironmentTesting at 0x11f5e8c80>, 10), 'behavior/data/5.txt', 0.0, 0.0)\n",
      "(<class 'agent.nn_agent.NNAgent'>, (<function getEnvironmentTesting at 0x11f5e8c80>, 10), 'behavior/data/6.txt', 0.0, 0.0)\n"
     ]
    }
   ],
   "source": [
    "taskResults = []\n",
    "for iAgent, AgentClass in enumerate(agents):\n",
    "    for iTraining, trainingParams in enumerate(trainingSource):\n",
    "        for iBehavior, behaviorFile in enumerate(behaviorSource):\n",
    "        \n",
    "            taskNumNotificationHolder = np.zeros(numRounds)\n",
    "            taskResponseRateHolder = np.zeros(numRounds)\n",
    "\n",
    "            for iRound in range(numRounds):\n",
    "                trainingEnvorinmentFunc, numTrainingWeeks = trainingParams\n",
    "\n",
    "                # collecting training data\n",
    "                agent = ClassifierDataCollectionAgent()\n",
    "                environment = trainingEnvorinmentFunc()\n",
    "                behavior = ExtraSensoryBehavior(behaviorFile)\n",
    "                controller = Controller(agent, environment, behavior, simulationWeek=numTrainingWeeks,\n",
    "                                        negativeReward=-5, verbose=False)\n",
    "                controller.execute()\n",
    "                agent.saveModel(tmpModelPath)\n",
    "\n",
    "                # testing phase\n",
    "                agent = AgentClass()\n",
    "                agent.loadModel(tmpModelPath)\n",
    "                environment = getEnvironmentTesting()\n",
    "                controller = Controller(agent, environment, behavior, simulationWeek=10,\n",
    "                                        negativeReward=-5, verbose=False)\n",
    "                results = controller.execute()\n",
    "                numNotifications, responseRate = getResponseRates(results)\n",
    "\n",
    "                taskNumNotificationHolder[iRound] = numNotifications\n",
    "                taskResponseRateHolder[iRound] = responseRate\n",
    "\n",
    "            taskResults.append((AgentClass, trainingParams, behaviorFile,\n",
    "                  np.mean(taskNumNotificationHolder), np.mean(taskResponseRateHolder)))\n",
    "\n",
    "for taskResult in taskResults:\n",
    "    print(taskResult)"
   ]
  },
  {
   "cell_type": "code",
   "execution_count": 29,
   "metadata": {},
   "outputs": [
    {
     "name": "stdout",
     "output_type": "stream",
     "text": [
      "[[ -954.6  -243.1  -466.3  -234.9  -377.1  -158.1  -189.2  -265.4  -210.2\n",
      "   -127.5   -49.5]\n",
      " [-1039.4  -141.4  -129.   -162.    -35.5   -62.5  -134.7   -34.6  -130.7\n",
      "    -32.1   -19. ]]\n",
      "[[0.720011   0.53228435 0.59490083 0.79537774 0.76666028 0.63824792\n",
      "  0.80389902 0.62358735 0.81888067 0.66287428 0.83295978]\n",
      " [0.69154703 0.29472797 0.23193012 0.3896916  0.67577955 0.57304612\n",
      "  0.4013819  0.76618782 0.6599013  0.73799442 0.52544098]]\n"
     ]
    }
   ],
   "source": [
    "print(resultReward)\n",
    "print(resultResponseRatio)"
   ]
  }
 ],
 "metadata": {
  "kernelspec": {
   "display_name": "Python 3",
   "language": "python",
   "name": "python3"
  },
  "language_info": {
   "codemirror_mode": {
    "name": "ipython",
    "version": 3
   },
   "file_extension": ".py",
   "mimetype": "text/x-python",
   "name": "python",
   "nbconvert_exporter": "python",
   "pygments_lexer": "ipython3",
   "version": "3.4.1"
  }
 },
 "nbformat": 4,
 "nbformat_minor": 2
}
