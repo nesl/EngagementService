{
 "cells": [
  {
   "cell_type": "code",
   "execution_count": 1,
   "metadata": {},
   "outputs": [],
   "source": [
    "from environment import MTurkSurveyUser"
   ]
  },
  {
   "cell_type": "code",
   "execution_count": 8,
   "metadata": {},
   "outputs": [
    {
     "name": "stderr",
     "output_type": "stream",
     "text": [
      "No record for day=1, location=1, activity=3, notification=1\n",
      "No record for day=0, location=0, activity=3, notification=1\n",
      "No record for day=0, location=1, activity=3, notification=1\n",
      "No record for day=1, location=0, activity=3, notification=1\n",
      "No record for day=1, location=1, activity=4, notification=1\n",
      "No record for day=1, location=0, activity=4, notification=0\n",
      "No record for day=0, location=0, activity=4, notification=1\n",
      "No record for day=0, location=1, activity=4, notification=0\n",
      "No record for day=1, location=1, activity=2, notification=0\n",
      "No record for day=1, location=1, activity=2, notification=1\n",
      "No record for day=0, location=0, activity=2, notification=1\n",
      "No record for day=0, location=1, activity=2, notification=0\n",
      "No record for day=0, location=1, activity=3, notification=0\n",
      "No record for day=1, location=0, activity=3, notification=0\n",
      "No record for day=1, location=0, activity=2, notification=0\n",
      "No record for day=1, location=0, activity=4, notification=1\n",
      "No record for day=0, location=0, activity=4, notification=0\n",
      "No record for day=0, location=1, activity=4, notification=1\n",
      "No record for day=0, location=0, activity=3, notification=0\n",
      "No record for day=0, location=1, activity=2, notification=1\n",
      "No record for day=0, location=0, activity=2, notification=0\n",
      "No record for day=1, location=1, activity=3, notification=0\n",
      "No record for day=1, location=0, activity=2, notification=1\n",
      "No record for day=1, location=1, activity=4, notification=0\n",
      "WARNING: No records for 24 states. The behavior will be random.\n"
     ]
    }
   ],
   "source": [
    "environment = MTurkSurveyUser([\n",
    "        'survey/ver2_mturk/results/01_1st_Batch_3137574_batch_results.csv',\n",
    "        'survey/ver2_mturk/results/02_Batch_3148398_batch_results.csv',\n",
    "])"
   ]
  },
  {
   "cell_type": "code",
   "execution_count": 9,
   "metadata": {},
   "outputs": [
    {
     "name": "stdout",
     "output_type": "stream",
     "text": [
      "There are 1090 records in total.\n",
      "24 states have no samples.\n",
      "Ratio of accepted notifications is 41.93%\n",
      "Ratio of ignored notifications is 26.51%\n",
      "Ratio of dismissed notifications is 31.56%\n",
      "Number of unique workers: 64\n",
      "Working time per task: 16.2 +- 60.57 secs\n"
     ]
    }
   ],
   "source": [
    "numTotalRecords = environment.getNumTotalRecords()\n",
    "print(\"There are %d records in total.\" % numTotalRecords)\n",
    "print(\"%d states have no samples.\" % environment.getNumNoDataStates())\n",
    "numAccept = environment.getNumRecordsAcceptingNotification()\n",
    "numIgnore = environment.getNumRecordsIgnoringNotification()\n",
    "numDismiss = environment.getNumRecordsDismissingNotification()\n",
    "ratioAccept = numAccept / numTotalRecords\n",
    "ratioIgnore = numIgnore / numTotalRecords\n",
    "ratioDismiss = numDismiss / numTotalRecords\n",
    "print(\"Ratio of accepted notifications is %.2f%%\" % (ratioAccept * 100.))\n",
    "print(\"Ratio of ignored notifications is %.2f%%\" % (ratioIgnore * 100.))\n",
    "print(\"Ratio of dismissed notifications is %.2f%%\" % (ratioDismiss * 100.))\n",
    "print(\"Number of unique workers: %d\" % environment.getNumUniqueWorkers())\n",
    "workingTimeAvg, workingTimeStd = environment.getAvgWorkingTime()\n",
    "print(\"Working time per task: %.1f +- %.2f secs\" % (workingTimeAvg, workingTimeStd))"
   ]
  },
  {
   "cell_type": "code",
   "execution_count": null,
   "metadata": {},
   "outputs": [],
   "source": []
  }
 ],
 "metadata": {
  "kernelspec": {
   "display_name": "Python 3",
   "language": "python",
   "name": "python3"
  },
  "language_info": {
   "codemirror_mode": {
    "name": "ipython",
    "version": 3
   },
   "file_extension": ".py",
   "mimetype": "text/x-python",
   "name": "python",
   "nbconvert_exporter": "python",
   "pygments_lexer": "ipython3",
   "version": "3.4.1"
  }
 },
 "nbformat": 4,
 "nbformat_minor": 2
}
