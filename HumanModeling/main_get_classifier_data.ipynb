{
 "cells": [
  {
   "cell_type": "code",
   "execution_count": 1,
   "metadata": {},
   "outputs": [
    {
     "name": "stderr",
     "output_type": "stream",
     "text": [
      "Using TensorFlow backend.\n"
     ]
    }
   ],
   "source": [
    "from agent import *\n",
    "from environment import *\n",
    "from behavior import *\n",
    "from controller import Controller"
   ]
  },
  {
   "cell_type": "code",
   "execution_count": 6,
   "metadata": {},
   "outputs": [],
   "source": [
    "agent = ClassifierDataCollectionAgent()\n",
    "environment = MTurkSurveyUser(filePaths=[\n",
    "        'survey/ver2_mturk/results/01_1st_Batch_3137574_batch_results.csv',\n",
    "        'survey/ver2_mturk/results/02_Batch_3148398_batch_results.csv',\n",
    "        'survey/ver2_mturk/results/03_Batch_3149214_batch_results.csv',\n",
    "], filterFunc=(lambda r: ord(r['rawWorkerID'][-1]) % 3 == 2), dismissWarningMsg=True)\n",
    "behavior = ExtraSensoryBehavior('behavior/data/2.txt')\n",
    "\n",
    "controller = Controller(agent, environment, behavior, simulationWeek=10,\n",
    "                        negativeReward=-5, verbose=False)\n",
    "controller.execute()\n",
    "\n",
    "agent.saveModel(\"agent/pretrained_models/classifiers/mturk_3000_m3_r2_behavior2.txt\")"
   ]
  },
  {
   "cell_type": "code",
   "execution_count": 7,
   "metadata": {},
   "outputs": [],
   "source": [
    "agent = ClassifierDataCollectionAgent()\n",
    "environment = MTurkSurveyUser(filePaths=[\n",
    "        'survey/ver2_mturk/results/01_1st_Batch_3137574_batch_results.csv',\n",
    "        'survey/ver2_mturk/results/02_Batch_3148398_batch_results.csv',\n",
    "        'survey/ver2_mturk/results/03_Batch_3149214_batch_results.csv',\n",
    "], filterFunc=(lambda r: ord(r['rawWorkerID'][-1]) % 3 == 2), dismissWarningMsg=True)\n",
    "behavior = ExtraSensoryBehavior('behavior/data/4.txt')\n",
    "\n",
    "controller = Controller(agent, environment, behavior, simulationWeek=10,\n",
    "                        negativeReward=-5, verbose=False)\n",
    "controller.execute()\n",
    "\n",
    "agent.saveModel(\"agent/pretrained_models/classifiers/mturk_3000_m3_r2_behavior4.txt\")"
   ]
  },
  {
   "cell_type": "code",
   "execution_count": 8,
   "metadata": {},
   "outputs": [],
   "source": [
    "agent = ClassifierDataCollectionAgent()\n",
    "environment = MTurkSurveyUser(filePaths=[\n",
    "        'survey/ver2_mturk/results/01_1st_Batch_3137574_batch_results.csv',\n",
    "        'survey/ver2_mturk/results/02_Batch_3148398_batch_results.csv',\n",
    "        'survey/ver2_mturk/results/03_Batch_3149214_batch_results.csv',\n",
    "], filterFunc=(lambda r: ord(r['rawWorkerID'][-1]) % 3 == 2), dismissWarningMsg=True)\n",
    "behavior = ExtraSensoryBehavior('behavior/data/5.txt')\n",
    "\n",
    "controller = Controller(agent, environment, behavior, simulationWeek=10,\n",
    "                        negativeReward=-5, verbose=False)\n",
    "controller.execute()\n",
    "\n",
    "agent.saveModel(\"agent/pretrained_models/classifiers/mturk_3000_m3_r2_behavior5.txt\")"
   ]
  },
  {
   "cell_type": "code",
   "execution_count": 9,
   "metadata": {},
   "outputs": [],
   "source": [
    "agent = ClassifierDataCollectionAgent()\n",
    "environment = MTurkSurveyUser(filePaths=[\n",
    "        'survey/ver2_mturk/results/01_1st_Batch_3137574_batch_results.csv',\n",
    "        'survey/ver2_mturk/results/02_Batch_3148398_batch_results.csv',\n",
    "        'survey/ver2_mturk/results/03_Batch_3149214_batch_results.csv',\n",
    "], filterFunc=(lambda r: ord(r['rawWorkerID'][-1]) % 3 == 2), dismissWarningMsg=True)\n",
    "behavior = ExtraSensoryBehavior('behavior/data/6.txt')\n",
    "\n",
    "controller = Controller(agent, environment, behavior, simulationWeek=10,\n",
    "                        negativeReward=-5, verbose=False)\n",
    "controller.execute()\n",
    "\n",
    "agent.saveModel(\"agent/pretrained_models/classifiers/mturk_3000_m3_r2_behavior6.txt\")"
   ]
  },
  {
   "cell_type": "code",
   "execution_count": null,
   "metadata": {},
   "outputs": [],
   "source": []
  }
 ],
 "metadata": {
  "kernelspec": {
   "display_name": "Python 3",
   "language": "python",
   "name": "python3"
  },
  "language_info": {
   "codemirror_mode": {
    "name": "ipython",
    "version": 3
   },
   "file_extension": ".py",
   "mimetype": "text/x-python",
   "name": "python",
   "nbconvert_exporter": "python",
   "pygments_lexer": "ipython3",
   "version": "3.4.1"
  }
 },
 "nbformat": 4,
 "nbformat_minor": 2
}
